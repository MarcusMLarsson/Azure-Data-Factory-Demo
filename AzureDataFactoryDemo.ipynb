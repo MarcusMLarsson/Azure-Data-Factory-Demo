{
 "cells": [
  {
   "cell_type": "code",
   "execution_count": 4,
   "metadata": {},
   "outputs": [],
   "source": [
    "import requests\n",
    "import io\n",
    "import pandas as pd\n",
    "import numpy as np\n",
    "\n",
    "response = requests.get('https://coinmetrics.io/newdata/btc.csv')\n",
    "file_object = io.StringIO(response.content.decode('utf-8'))\n",
    "btc = pd.read_csv(file_object, index_col=\"date\", parse_dates=[\"date\"])\n",
    "btc = btc[\"2013-05-01\":\"2100\"]"
   ]
  },
  {
   "cell_type": "code",
   "execution_count": 5,
   "metadata": {},
   "outputs": [],
   "source": [
    "#btc['CapMrktCurUSD'], btc['AdrActCnt']\n",
    "response = requests.get('https://coinmetrics.io/newdata/btc.csv')\n",
    "file_object = io.StringIO(response.content.decode('utf-8'))\n",
    "btc = pd.read_csv(file_object, index_col=\"date\", parse_dates=[\"date\"], usecols=['CapMrktCurUSD', 'AdrActCnt','date'])"
   ]
  },
  {
   "cell_type": "code",
   "execution_count": 6,
   "metadata": {},
   "outputs": [],
   "source": [
    "response = requests.get('https://coinmetrics.io/newdata/eth.csv')\n",
    "file_object = io.StringIO(response.content.decode('utf-8'))\n",
    "eth = pd.read_csv(file_object, index_col=\"date\", parse_dates=[\"date\"])\n",
    "eth = eth[\"2013-05-01\":\"2100\"]\n",
    "eth = eth[np.abs(eth[\"AdrActCnt\"]-eth[\"AdrActCnt\"].mean()) <= (1.5*eth[\"AdrActCnt\"].std())]"
   ]
  }
 ],
 "metadata": {
  "kernelspec": {
   "display_name": "Python 3",
   "language": "python",
   "name": "python3"
  },
  "language_info": {
   "codemirror_mode": {
    "name": "ipython",
    "version": 3
   },
   "file_extension": ".py",
   "mimetype": "text/x-python",
   "name": "python",
   "nbconvert_exporter": "python",
   "pygments_lexer": "ipython3",
   "version": "3.7.6"
  }
 },
 "nbformat": 4,
 "nbformat_minor": 4
}
